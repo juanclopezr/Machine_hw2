{
 "cells": [
  {
   "cell_type": "code",
   "execution_count": 1,
   "metadata": {
    "collapsed": false
   },
   "outputs": [],
   "source": [
    "%matplotlib inline\n",
    "import numpy as np\n",
    "import pandas as pd\n",
    "import scipy as sp\n",
    "from sklearn import svm\n",
    "from sklearn import model_selection\n",
    "from sklearn import preprocessing\n",
    "from sklearn import decomposition"
   ]
  },
  {
   "cell_type": "markdown",
   "metadata": {},
   "source": [
    "# Dataset loading\n",
    "The training data for the problem is loaded and it is subdivided into training and testing sets to leave the test dataset as a validation set"
   ]
  },
  {
   "cell_type": "code",
   "execution_count": 2,
   "metadata": {
    "collapsed": false
   },
   "outputs": [],
   "source": [
    "X = np.loadtxt('xtrain.txt')\n",
    "Y = np.loadtxt('ytrain.txt')\n",
    "x_v = np.loadtxt('xtest.txt')\n",
    "\n",
    "X_train, X_test, Y_train, Y_test = model_selection.train_test_split(X, Y, test_size=0.2)"
   ]
  },
  {
   "cell_type": "markdown",
   "metadata": {},
   "source": [
    "# Preprocessing\n",
    "In problems such as logistic classification and neural network classification, there was an apparent benefit from standardizing the data, which is the reason for doing so here."
   ]
  },
  {
   "cell_type": "markdown",
   "metadata": {},
   "source": [
    "# The approach\n",
    "A SVM approach will be used. For this problem, the $ \\nu$SVC and the CSVC will be used to determine which one produces better results when their parameters are properly adjusted, for the polynimial and Gaussian kernels"
   ]
  },
  {
   "cell_type": "markdown",
   "metadata": {},
   "source": [
    "# $ \\nu$SVC Gaussian\n",
    "This is a good choice when the data can be properly separated without considering an intercept. This isn't known for this dataset and the number of features makes it impossible to get a visual representation of the data, which is the reason why the two approaches for SVM are tested. The performance for a logarithmic grid of the parameter $ \\nu$ will be tested by using different error criterions, such as accuracy of the classifier on the testing and training datasets and cross validation."
   ]
  },
  {
   "cell_type": "markdown",
   "metadata": {},
   "source": [
    "# Plain old accuracy\n",
    "In this case, the accuracy is estimated on a training dataset and a validation dataset. For a big enough amount of testing data, the estimated real error is close to its true value, however, choosing the best classifier based on this criterion alone, makes said classifier dependent on the testing data."
   ]
  },
  {
   "cell_type": "code",
   "execution_count": 3,
   "metadata": {
    "collapsed": false
   },
   "outputs": [],
   "source": [
    "scaler=preprocessing.StandardScaler().fit(X_train)\n",
    "X_trains=scaler.transform(X_train)\n",
    "X_tests=scaler.transform(X_test)\n",
    "scores_train = np.zeros(25)\n",
    "scores_test = np.zeros(25)\n",
    "grid = np.linspace(0.05,0.90,25)\n",
    "for i in range(25):\n",
    "    nusvc = svm.NuSVC(nu=grid[i], kernel='rbf')\n",
    "    nusvc.fit(X_trains, Y_train)\n",
    "    scores_train[i] = nusvc.score(X_trains, Y_train)\n",
    "    scores_test[i] = nusvc.score(X_tests, Y_test)"
   ]
  },
  {
   "cell_type": "markdown",
   "metadata": {},
   "source": [
    "# Goodness of classification\n",
    "The goodness of the classification is evaluated by measuring the mean accuracy of the classifier in the test samples, and comparing it to the training samples to annalize the error and the overfitting of the model."
   ]
  },
  {
   "cell_type": "code",
   "execution_count": 4,
   "metadata": {
    "collapsed": false
   },
   "outputs": [
    {
     "data": {
      "text/plain": [
       "<matplotlib.legend.Legend at 0x29efaab7160>"
      ]
     },
     "execution_count": 4,
     "metadata": {},
     "output_type": "execute_result"
    },
    {
     "data": {
      "image/png": "[encoded data removed]",
      "text/plain": [
       "<matplotlib.figure.Figure at 0x29efcebd0f0>"
      ]
     },
     "metadata": {},
     "output_type": "display_data"
    }
   ],
   "source": [
    "import matplotlib.pyplot as plt\n",
    "plt.plot(grid, scores_train, label='train')\n",
    "plt.plot(grid, scores_test, label='test')\n",
    "plt.xlabel('nu')\n",
    "plt.ylabel('Accuracy')\n",
    "plt.legend()"
   ]
  },
  {
   "cell_type": "markdown",
   "metadata": {},
   "source": [
    "It is clearly seen that there is little difference for the training an testing datasets, and the results are very poor for low values of $ \\nu$. THe best accuracy is seen for a value of 0.7 with:"
   ]
  },
  {
   "cell_type": "code",
   "execution_count": 5,
   "metadata": {
    "collapsed": false
   },
   "outputs": [
    {
     "name": "stdout",
     "output_type": "stream",
     "text": [
      "The mean accuracy on the training samples is: 0.841875\n",
      "The mean accuracy on the testing samples is: 0.810000\n"
     ]
    }
   ],
   "source": [
    "nusvc = svm.NuSVC(nu=0.7, kernel='rbf')\n",
    "nusvc.fit(X_trains, Y_train)\n",
    "print('The mean accuracy on the training samples is: %f' %(nusvc.score(X_trains, Y_train)))\n",
    "print('The mean accuracy on the testing samples is: %f' %(nusvc.score(X_tests, Y_test)))"
   ]
  },
  {
   "cell_type": "markdown",
   "metadata": {},
   "source": [
    "# Cross validation\n",
    "\n",
    "It is thought that in certain cases it offers a better approach to the real classification error by reducing the variance, however one problem that it presents is that the estimated errors used to compute the average error, are not independent so the resulted average may have a different meaning, and it is not so easy to find a bound in this case.\n",
    "\n",
    "In order to ensure that the classifier does not depend on the data a testing set of 2048 samples will be reserved and won't be used during the exploration to find the optimal number of neurons.\n",
    "\n",
    "For cross validation the training data will be split randomly in 10 bins and one of them will be seclected to compute a total of 10 errors per iteration which will be averaged to give the score."
   ]
  },
  {
   "cell_type": "code",
   "execution_count": 6,
   "metadata": {
    "collapsed": true
   },
   "outputs": [],
   "source": [
    "scores = np.zeros(25)\n",
    "for i in range(25):\n",
    "    nusvc = svm.NuSVC(nu=grid[i], kernel='rbf')\n",
    "    scores[i] = np.mean(np.array(model_selection.cross_val_score(nusvc, X_trains, Y_train, cv=10)))"
   ]
  },
  {
   "cell_type": "code",
   "execution_count": 7,
   "metadata": {
    "collapsed": false,
    "scrolled": true
   },
   "outputs": [
    {
     "data": {
      "text/plain": [
       "<matplotlib.text.Text at 0x29e81d839b0>"
      ]
     },
     "execution_count": 7,
     "metadata": {},
     "output_type": "execute_result"
    },
    {
     "data": {
      "image/png": "[encoded data removed]",
      "text/plain": [
       "<matplotlib.figure.Figure at 0x29e81d474a8>"
      ]
     },
     "metadata": {},
     "output_type": "display_data"
    }
   ],
   "source": [
    "plt.plot(grid, scores)\n",
    "plt.xlabel('nu')\n",
    "plt.ylabel('Accuracy')"
   ]
  },
  {
   "cell_type": "markdown",
   "metadata": {},
   "source": [
    "It can be seen that the accuracies are pretty much the same for the two error criterions, which means the best classifier is found with a Gaussuan kernel for the $ \\nu$SVC, by taking into account accuracy and overfitting, however it is worth taking a look at CSVC to compare the results."
   ]
  },
  {
   "cell_type": "markdown",
   "metadata": {},
   "source": [
    "# CSVC\n",
    "\n",
    "In this case an intercept is considered, so it is possible that this method yields better results."
   ]
  },
  {
   "cell_type": "code",
   "execution_count": 8,
   "metadata": {
    "collapsed": true
   },
   "outputs": [],
   "source": [
    "scores_train = np.zeros(25)\n",
    "scores_test = np.zeros(25)\n",
    "grid = np.logspace(-1.,4.,25)\n",
    "for i in range(25):\n",
    "    svc = svm.SVC(C=grid[i], kernel='rbf')\n",
    "    svc.fit(X_trains, Y_train)\n",
    "    scores_train[i] = svc.score(X_trains, Y_train)\n",
    "    scores_test[i] = svc.score(X_tests, Y_test)"
   ]
  },
  {
   "cell_type": "markdown",
   "metadata": {},
   "source": [
    "# Goodness of classification"
   ]
  },
  {
   "cell_type": "markdown",
   "metadata": {},
   "source": [
    "# Plain old accuracy"
   ]
  },
  {
   "cell_type": "code",
   "execution_count": 9,
   "metadata": {
    "collapsed": false
   },
   "outputs": [
    {
     "data": {
      "text/plain": [
       "<matplotlib.legend.Legend at 0x29e81e71630>"
      ]
     },
     "execution_count": 9,
     "metadata": {},
     "output_type": "execute_result"
    },
    {
     "data": {
      "image/png": "[encoded data removed]",
      "text/plain": [
       "<matplotlib.figure.Figure at 0x29e81d836a0>"
      ]
     },
     "metadata": {},
     "output_type": "display_data"
    }
   ],
   "source": [
    "plt.plot(grid, scores_train, label='train')\n",
    "plt.plot(grid, scores_test, label='test')\n",
    "plt.xlabel('C')\n",
    "plt.ylabel('Accuracy')\n",
    "plt.legend()"
   ]
  },
  {
   "cell_type": "markdown",
   "metadata": {},
   "source": [
    "It is clearly seen that there is little difference for the training an testing datasets, and is pretty much the samne for all values of C. With 8000:"
   ]
  },
  {
   "cell_type": "code",
   "execution_count": 10,
   "metadata": {
    "collapsed": false
   },
   "outputs": [
    {
     "name": "stdout",
     "output_type": "stream",
     "text": [
      "The mean accuracy on the training samples is: 1.000000\n",
      "The mean accuracy on the testing samples is: 0.727500\n"
     ]
    }
   ],
   "source": [
    "svc = svm.SVC(C=8000, kernel='rbf')\n",
    "svc.fit(X_trains, Y_train)\n",
    "print('The mean accuracy on the training samples is: %f' %(svc.score(X_trains, Y_train)))\n",
    "print('The mean accuracy on the testing samples is: %f' %(svc.score(X_tests, Y_test)))"
   ]
  },
  {
   "cell_type": "markdown",
   "metadata": {},
   "source": [
    "# Cross validation\n",
    "\n",
    "In this case there is no clear difference among different values of C, howevwer crossvalidation may offer a better insight."
   ]
  },
  {
   "cell_type": "code",
   "execution_count": 11,
   "metadata": {
    "collapsed": true
   },
   "outputs": [],
   "source": [
    "scores = np.zeros(25)\n",
    "for i in range(25):\n",
    "    svc = svm.SVC(C=grid[i], kernel='rbf')\n",
    "    scores[i] = np.mean(np.array(model_selection.cross_val_score(svc, X_trains, Y_train, cv=10)))"
   ]
  },
  {
   "cell_type": "code",
   "execution_count": 12,
   "metadata": {
    "collapsed": false,
    "scrolled": true
   },
   "outputs": [
    {
     "data": {
      "text/plain": [
       "<matplotlib.text.Text at 0x29e81dc3ac8>"
      ]
     },
     "execution_count": 12,
     "metadata": {},
     "output_type": "execute_result"
    },
    {
     "data": {
      "image/png": "[encoded data removed]",
      "text/plain": [
       "<matplotlib.figure.Figure at 0x29e81d83048>"
      ]
     },
     "metadata": {},
     "output_type": "display_data"
    }
   ],
   "source": [
    "plt.plot(grid, scores)\n",
    "plt.xlabel('C')\n",
    "plt.ylabel('Accuracy')"
   ]
  },
  {
   "cell_type": "markdown",
   "metadata": {},
   "source": [
    "According to this, the best classifier is the $ \\nu$SVC with a value of 0.7 for $ \\nu$, using a Gaussian kernel. Fort this reason, this classifier is used for all the samples in order to produce labels for the given validation set."
   ]
  },
  {
   "cell_type": "markdown",
   "metadata": {},
   "source": [
    "With 400 samples in the testing dataset, it is possible to use Chernoff's absolute error bounds to ensure with a confidence of 95%, that:\n",
    "\n",
    "$$ e=\\sqrt{\\frac{1}{2*400}\\frac{1}{\\ln(\\frac{1}{0.025})}}\\approx 0.02 $$"
   ]
  },
  {
   "cell_type": "code",
   "execution_count": 13,
   "metadata": {
    "collapsed": true
   },
   "outputs": [],
   "source": [
    "Xs = scaler.transform(X)\n",
    "svc = svm.NuSVC(nu=0.7, kernel='rbf')\n",
    "svc.fit(Xs, Y)\n",
    "labels = svc.predict(scaler.transform(x_v))\n",
    "np.savetxt('labels_gauss.dat', labels)"
   ]
  }
 ],
 "metadata": {
  "anaconda-cloud": {},
  "kernelspec": {
   "display_name": "Python 3",
   "language": "python",
   "name": "python3"
  },
  "language_info": {
   "codemirror_mode": {
    "name": "ipython",
    "version": 3
   },
   "file_extension": ".py",
   "mimetype": "text/x-python",
   "name": "python",
   "nbconvert_exporter": "python",
   "pygments_lexer": "ipython3",
   "version": "3.6.0"
  }
 },
 "nbformat": 4,
 "nbformat_minor": 2
}
